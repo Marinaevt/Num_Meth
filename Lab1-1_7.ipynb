{
 "cells": [
  {
   "cell_type": "code",
   "execution_count": 11,
   "metadata": {
    "collapsed": false
   },
   "outputs": [
    {
     "name": "stdout",
     "output_type": "stream",
     "text": [
      "8.98846567431158e+307\n",
      "5e-324\n",
      "2.220446049250313e-16\n"
     ]
    }
   ],
   "source": [
    "import numpy as np\n",
    "import math\n",
    "\n",
    "np.seterr(over='raise', under='raise')\n",
    "ftype = np.float64\n",
    "\n",
    "one = ftype(1)\n",
    "two = ftype(2)\n",
    "\n",
    "N = 1\n",
    "x = one\n",
    "while x != math.inf:\n",
    "    try:\n",
    "        x *= two\n",
    "        N += 1\n",
    "    except:\n",
    "        break\n",
    "print(2.0**(N-1))\n",
    "\n",
    "\n",
    "n = 1\n",
    "x1 = one\n",
    "while not (x1 == ftype(0)):\n",
    "    try:\n",
    "        x1 /= two\n",
    "        n += 1\n",
    "    except:\n",
    "        break\n",
    "print(2**(-n+1))\n",
    "\n",
    "\n",
    "\n",
    "k = 0\n",
    "x2 = one\n",
    "y2 = two\n",
    "while y2 != one:\n",
    "    x2 /= two\n",
    "    y2 = one + x2\n",
    "    k += 1\n",
    "print(2**(-k+1))"
   ]
  },
  {
   "cell_type": "code",
   "execution_count": 12,
   "metadata": {
    "collapsed": false
   },
   "outputs": [
    {
     "name": "stdout",
     "output_type": "stream",
     "text": [
      "1.7014118346046923e+38\n",
      "1.401298464324817e-45\n",
      "1.1920928955078125e-07\n"
     ]
    }
   ],
   "source": [
    "import numpy as np\n",
    "import math\n",
    "\n",
    "np.seterr(over='raise', under='raise')\n",
    "ftype = np.float32\n",
    "\n",
    "one = ftype(1)\n",
    "two = ftype(2)\n",
    "\n",
    "N = 1\n",
    "x = one\n",
    "while x != math.inf:\n",
    "    try:\n",
    "        x *= two\n",
    "        N += 1\n",
    "    except:\n",
    "        break\n",
    "print(2.0**(N-1))\n",
    "\n",
    "\n",
    "n = 1\n",
    "x1 = one\n",
    "while not (x1 == ftype(0)):\n",
    "    try:\n",
    "        x1 /= two\n",
    "        n += 1\n",
    "    except:\n",
    "        break\n",
    "print(2**(-n+1))\n",
    "\n",
    "\n",
    "\n",
    "k = 0\n",
    "x2 = one\n",
    "y2 = two\n",
    "while y2 != one:\n",
    "    x2 /= two\n",
    "    y2 = one + x2\n",
    "    k += 1\n",
    "print(2**(-k+1))"
   ]
  },
  {
   "cell_type": "code",
   "execution_count": null,
   "metadata": {
    "collapsed": true
   },
   "outputs": [],
   "source": []
  }
 ],
 "metadata": {
  "anaconda-cloud": {},
  "kernelspec": {
   "display_name": "Python [conda root]",
   "language": "python",
   "name": "conda-root-py"
  },
  "language_info": {
   "codemirror_mode": {
    "name": "ipython",
    "version": 3
   },
   "file_extension": ".py",
   "mimetype": "text/x-python",
   "name": "python",
   "nbconvert_exporter": "python",
   "pygments_lexer": "ipython3",
   "version": "3.5.2"
  }
 },
 "nbformat": 4,
 "nbformat_minor": 0
}
